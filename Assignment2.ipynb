{
 "cells": [
  {
   "cell_type": "markdown",
   "id": "f08c68e9",
   "metadata": {},
   "source": [
    "1.What are the two values of the Boolean data type? How do you write them?"
   ]
  },
  {
   "cell_type": "raw",
   "id": "4ad3139b",
   "metadata": {},
   "source": [
    "The Python Boolean type has only two possible values:\n",
    "True\n",
    "False\n",
    "\n",
    "If you want to define a boolean in Python, you can simply assign a True or False value or even an expression that ultimately evaluates to one of these values"
   ]
  },
  {
   "cell_type": "code",
   "execution_count": 2,
   "id": "ed2c48a6",
   "metadata": {},
   "outputs": [
    {
     "data": {
      "text/plain": [
       "(True, False)"
      ]
     },
     "execution_count": 2,
     "metadata": {},
     "output_type": "execute_result"
    }
   ],
   "source": [
    "True, False"
   ]
  },
  {
   "cell_type": "markdown",
   "id": "2916b768",
   "metadata": {},
   "source": [
    "2. What are the three different types of Boolean operators?"
   ]
  },
  {
   "cell_type": "raw",
   "id": "52695e95",
   "metadata": {},
   "source": [
    "Ans2. The three different types of boolean operators are\n",
    "        AND, OR, and NOT"
   ]
  },
  {
   "cell_type": "markdown",
   "id": "f4c3d84a",
   "metadata": {},
   "source": [
    "3. Make a list of each Boolean operator's truth tables (i.e. every possible combination of Boolean values for the operator and what it evaluate )."
   ]
  },
  {
   "cell_type": "raw",
   "id": "bec50c0b",
   "metadata": {},
   "source": [
    "Ans3.\n",
    "True and True is True.\n",
    "True and False is False.\n",
    "False and True is False.\n",
    "False and False is False.\n",
    "\n",
    "True or True is True.\n",
    "True or False is True.\n",
    "False or True is True.\n",
    "False or False is False.\n",
    "not True is False.\n",
    "not False is True.\n",
    "\n",
    "\n",
    "True is 1 and False is 0\n",
    "Truth Table for AND\n",
    "A B output\n",
    "0 0 0\n",
    "0 1 0\n",
    "1 0 0\n",
    "1 1 1\n",
    "Truth Table for OR\n",
    "A B output\n",
    "0 0 0\n",
    "0 1 1\n",
    "1 0 1\n",
    "1 1 1\n",
    "Truth Table for NOT\n",
    "A output\n",
    "0 1\n",
    "1 0"
   ]
  },
  {
   "cell_type": "raw",
   "id": "1a450521",
   "metadata": {},
   "source": [
    "4. What are the values of the following expressions?\n",
    "(5 > 4) and (3 == 5)\n",
    "not (5 > 4)\n",
    "(5 > 4) or (3 == 5)\n",
    "not ((5 > 4) or (3 == 5))\n",
    "(True and True) and (True == False)\n",
    "(not False) or (not True)"
   ]
  },
  {
   "cell_type": "code",
   "execution_count": null,
   "id": "d5ac96a3",
   "metadata": {},
   "outputs": [],
   "source": [
    "Ans4. \n",
    "\n",
    "(5 > 4) and (3 == 5)  = False\n",
    "not (5 > 4) = False\n",
    "(5 > 4) or (3 == 5) = True\n",
    "not ((5 > 4) or (3 == 5)) = False\n",
    "(True and True) and (True == False) = False\n",
    "(not False) or (not True) = True"
   ]
  },
  {
   "cell_type": "code",
   "execution_count": 4,
   "id": "f04631ea",
   "metadata": {},
   "outputs": [
    {
     "name": "stdout",
     "output_type": "stream",
     "text": [
      "False\n",
      "False\n",
      "True\n",
      "False\n",
      "False\n",
      "True\n"
     ]
    }
   ],
   "source": [
    "print((5>4) and (3==5))\n",
    "print(not(5>4))\n",
    "print((5>4) or (3==5))\n",
    "print(not(5>4) or (3==5))\n",
    "print((True and True) and (True==False))\n",
    "print((not(False))or(not(True)))"
   ]
  },
  {
   "cell_type": "markdown",
   "id": "b6fa64bc",
   "metadata": {},
   "source": [
    "5. What are the six comparison operators?"
   ]
  },
  {
   "cell_type": "raw",
   "id": "ab82371a",
   "metadata": {},
   "source": [
    "Ans5. \n",
    "Python has six comparison operators, which are as follows:\n",
    "\n",
    "Less than ( < )\n",
    "Less than or equal to (<=)\n",
    "Greater than (>)\n",
    "Greater than or equal to (>=)\n",
    "Equal to ( == )\n",
    "Not equal to ( != )"
   ]
  },
  {
   "cell_type": "markdown",
   "id": "3d9a5fe2",
   "metadata": {},
   "source": [
    "6. How do you tell the difference between the equal to and assignment operators?Describe a condition and when you would use one."
   ]
  },
  {
   "cell_type": "raw",
   "id": "b2b1cce0",
   "metadata": {},
   "source": [
    "Ans6.\n",
    "So it's cleared, both are not same, = is an Assignment Operator it is used to assign the value of variable or expression, while == is an Equal to Operator and it is a relation operator used for comparison (to compare value of both left and right side operands).\n",
    "\n",
    "condition for =(assignment) operator\n",
    "-------------------\n",
    "a = 7\n",
    "b = 2\n",
    "\n",
    "condition for  ==(equal to) operator\n",
    "---------------------------------------\n",
    "a = 5\n",
    "\n",
    "b = 2\n",
    "\n",
    "# equal to operator\n",
    "print('a == b =', a == b)"
   ]
  },
  {
   "cell_type": "raw",
   "id": "e9c76ed1",
   "metadata": {},
   "source": [
    "7. Identify the three blocks in this code:\n",
    "spam = 0\n",
    "if spam == 10:\n",
    "print('eggs')\n",
    "if spam > 5:\n",
    "print('bacon')\n",
    "else:\n",
    "print('ham')\n",
    "print('spam')\n",
    "print('spam')"
   ]
  },
  {
   "cell_type": "code",
   "execution_count": 5,
   "id": "8f93e5f7",
   "metadata": {},
   "outputs": [
    {
     "name": "stdout",
     "output_type": "stream",
     "text": [
      "ham\n",
      "spam\n",
      "spam\n"
     ]
    }
   ],
   "source": [
    "spam = 0\n",
    "# block 1\n",
    "if spam == 10:\n",
    "    print('eggs')\n",
    "# block 2\n",
    "if spam > 5:\n",
    "    print('bacon')\n",
    "# block 3\n",
    "else:\n",
    "    print('ham')\n",
    "    print('spam')\n",
    "    print('spam')"
   ]
  },
  {
   "cell_type": "markdown",
   "id": "5ade08ae",
   "metadata": {},
   "source": [
    "8. Write code that prints Hello if 1 is stored in spam, prints Howdy if 2 is stored in spam, and prints Greetings! if anything else is stored in spam."
   ]
  },
  {
   "cell_type": "code",
   "execution_count": 13,
   "id": "d9f8f4c0",
   "metadata": {},
   "outputs": [
    {
     "name": "stdout",
     "output_type": "stream",
     "text": [
      "Enter the Spam number7\n",
      "Greetings!\n"
     ]
    }
   ],
   "source": [
    "# Ans8.\n",
    "spam = int(input(\"Enter the Spam number\"))\n",
    "if spam == 1:\n",
    "    print(\"Hello\")\n",
    "elif spam == 2:\n",
    "    print(\"Howdy\")\n",
    "else:\n",
    "    print(\"Greetings!\")"
   ]
  },
  {
   "cell_type": "markdown",
   "id": "f602709d",
   "metadata": {},
   "source": [
    "9.If your programme is stuck in an endless loop, what keys you’ll press?"
   ]
  },
  {
   "cell_type": "raw",
   "id": "7533b9d1",
   "metadata": {},
   "source": [
    "Ans9. You can stop an infinite loop with CTRL + C ."
   ]
  },
  {
   "cell_type": "markdown",
   "id": "40a10edc",
   "metadata": {},
   "source": [
    "10. How can you tell the difference between break and continue?"
   ]
  },
  {
   "cell_type": "raw",
   "id": "0079874d",
   "metadata": {},
   "source": [
    "Ans10 \n",
    "    Break: \n",
    "        The break statement terminates the loop immediately \n",
    "        and the control flows to the statement after the body\n",
    "        of the loop.\n",
    "        \n",
    "    Continue:\n",
    "        The continue statement terminates the current iteration\n",
    "        of the statement. skips the rest of the code in the \n",
    "        current iteration and the control flows to the next\n",
    "        iteration of the loop.\n",
    "        "
   ]
  },
  {
   "cell_type": "code",
   "execution_count": 24,
   "id": "15daf906",
   "metadata": {},
   "outputs": [
    {
     "name": "stdout",
     "output_type": "stream",
     "text": [
      "0\n",
      "1\n",
      "2\n",
      "3\n",
      "Breaked\n",
      "-------\n",
      "0\n",
      "1\n",
      "2\n",
      "3\n",
      "4\n",
      "5\n",
      "6\n",
      "continue\n",
      "8\n",
      "9\n"
     ]
    }
   ],
   "source": [
    "# example for break\n",
    "for i in range(10):\n",
    "    if(i==4):\n",
    "        print('Breaked')\n",
    "        break\n",
    "    print(i)\n",
    "print('-------')    \n",
    "\n",
    "# example continue\n",
    "for i in range(10):\n",
    "    if(i==7):\n",
    "        print('continue')\n",
    "        continue\n",
    "    print(i)"
   ]
  },
  {
   "cell_type": "markdown",
   "id": "5a3c96d9",
   "metadata": {},
   "source": [
    "11. In a for loop, what is the difference between range(10), range(0, 10), and range(0, 10, 1)?"
   ]
  },
  {
   "cell_type": "raw",
   "id": "dff63e56",
   "metadata": {},
   "source": [
    "Ans11.\n",
    "range(10) = run iteration from 0 to 9.\n",
    "range(0, 10), (0=starting point, 10=is the ending point goes till 9)\n",
    "and \n",
    "range(0, 10, 1), (0=start, 10=stop, 1=step), here start from 0,\n",
    "                stepsize it will take 1 which also a by default,\n",
    "                stop at 9. always stop at 1 number less than stop\n",
    "                point is given."
   ]
  },
  {
   "cell_type": "code",
   "execution_count": 16,
   "id": "6745ebe4",
   "metadata": {},
   "outputs": [
    {
     "name": "stdout",
     "output_type": "stream",
     "text": [
      "0\n",
      "1\n",
      "2\n",
      "3\n",
      "4\n",
      "5\n",
      "6\n",
      "7\n",
      "8\n",
      "9\n",
      "\n",
      "0\n",
      "1\n",
      "2\n",
      "3\n",
      "4\n",
      "5\n",
      "6\n",
      "7\n",
      "8\n",
      "9\n",
      "\n",
      "0\n",
      "1\n",
      "2\n",
      "3\n",
      "4\n",
      "5\n",
      "6\n",
      "7\n",
      "8\n",
      "9\n"
     ]
    }
   ],
   "source": [
    "# example\n",
    "for i in range(10):\n",
    "    print(i)\n",
    "print()\n",
    "for i in range(0,10):\n",
    "    print(i)\n",
    "print()\n",
    "for i in range(0,10,1):\n",
    "    print(i)"
   ]
  },
  {
   "cell_type": "markdown",
   "id": "96ce2162",
   "metadata": {},
   "source": [
    "12. Write a short program that prints the numbers 1 to 10 using a for loop. Then write an equivalent program that prints the numbers 1 to 10 using a while loop."
   ]
  },
  {
   "cell_type": "code",
   "execution_count": 27,
   "id": "c80887b1",
   "metadata": {},
   "outputs": [
    {
     "name": "stdout",
     "output_type": "stream",
     "text": [
      "1\n",
      "2\n",
      "3\n",
      "4\n",
      "5\n",
      "6\n",
      "7\n",
      "8\n",
      "9\n",
      "10\n",
      "---for loop end---\n",
      "1\n",
      "2\n",
      "3\n",
      "4\n",
      "5\n",
      "6\n",
      "7\n",
      "8\n",
      "9\n",
      "10\n",
      "---while loop end---\n"
     ]
    }
   ],
   "source": [
    "# Ans12. \n",
    "# for loop\n",
    "for i in range(1, 11):\n",
    "    print(i)\n",
    "print('---for loop end---')\n",
    "\n",
    "# while loop\n",
    "i=1\n",
    "while i<11:\n",
    "    print(i)\n",
    "    i+=1\n",
    "print('---while loop end---')"
   ]
  },
  {
   "cell_type": "markdown",
   "id": "af42d60f",
   "metadata": {},
   "source": [
    "13. If you had a function named bacon() inside a module named spam, how would you call it after importing spam?"
   ]
  },
  {
   "cell_type": "raw",
   "id": "d476eb3d",
   "metadata": {},
   "source": [
    "Ans13. \n",
    "    This function can be called with spam.bacon()."
   ]
  },
  {
   "cell_type": "code",
   "execution_count": null,
   "id": "de5a7678",
   "metadata": {},
   "outputs": [],
   "source": []
  },
  {
   "cell_type": "code",
   "execution_count": null,
   "id": "f893fb4f",
   "metadata": {},
   "outputs": [],
   "source": []
  },
  {
   "cell_type": "code",
   "execution_count": null,
   "id": "ced7eb3e",
   "metadata": {},
   "outputs": [],
   "source": [
    "from spam import bacon\n",
    "import spam.bacon"
   ]
  },
  {
   "cell_type": "code",
   "execution_count": null,
   "id": "291594ea",
   "metadata": {},
   "outputs": [],
   "source": []
  }
 ],
 "metadata": {
  "kernelspec": {
   "display_name": "Python 3 (ipykernel)",
   "language": "python",
   "name": "python3"
  },
  "language_info": {
   "codemirror_mode": {
    "name": "ipython",
    "version": 3
   },
   "file_extension": ".py",
   "mimetype": "text/x-python",
   "name": "python",
   "nbconvert_exporter": "python",
   "pygments_lexer": "ipython3",
   "version": "3.10.4"
  }
 },
 "nbformat": 4,
 "nbformat_minor": 5
}
