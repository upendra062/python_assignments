{
 "cells": [
  {
   "cell_type": "markdown",
   "id": "0ebc4223",
   "metadata": {},
   "source": [
    "1. Write a Python program to find sum of elements in list?   "
   ]
  },
  {
   "cell_type": "code",
   "execution_count": null,
   "id": "a7b527d4",
   "metadata": {},
   "outputs": [],
   "source": []
  },
  {
   "cell_type": "markdown",
   "id": "4d371f38",
   "metadata": {},
   "source": [
    "2. Write a Python program to  Multiply all numbers in the list?   "
   ]
  },
  {
   "cell_type": "code",
   "execution_count": null,
   "id": "ef74cdcf",
   "metadata": {},
   "outputs": [],
   "source": []
  },
  {
   "cell_type": "markdown",
   "id": "9bfa5635",
   "metadata": {},
   "source": [
    "3. Write a Python program to find smallest number in a list?    "
   ]
  },
  {
   "cell_type": "code",
   "execution_count": null,
   "id": "5a5af6ae",
   "metadata": {},
   "outputs": [],
   "source": []
  },
  {
   "cell_type": "markdown",
   "id": "1e999c79",
   "metadata": {},
   "source": [
    "4. Write a Python program to find largest number in a list?    "
   ]
  },
  {
   "cell_type": "code",
   "execution_count": null,
   "id": "d4c0dbf2",
   "metadata": {},
   "outputs": [],
   "source": []
  },
  {
   "cell_type": "markdown",
   "id": "12706109",
   "metadata": {},
   "source": [
    "5. Write a Python program to find second largest number in a list?"
   ]
  },
  {
   "cell_type": "code",
   "execution_count": null,
   "id": "a1149b1a",
   "metadata": {},
   "outputs": [],
   "source": []
  },
  {
   "cell_type": "markdown",
   "id": "b0218075",
   "metadata": {},
   "source": [
    "6. Write a Python program to find N largest elements from a list?\n",
    "    "
   ]
  },
  {
   "cell_type": "code",
   "execution_count": null,
   "id": "48139409",
   "metadata": {},
   "outputs": [],
   "source": []
  },
  {
   "cell_type": "markdown",
   "id": "7db90145",
   "metadata": {},
   "source": [
    "7. Write a Python program to print even numbers in a list?    "
   ]
  },
  {
   "cell_type": "code",
   "execution_count": null,
   "id": "d2cb9886",
   "metadata": {},
   "outputs": [],
   "source": []
  },
  {
   "cell_type": "markdown",
   "id": "62e4289f",
   "metadata": {},
   "source": [
    "8. Write a Python program to print odd numbers in a List?   "
   ]
  },
  {
   "cell_type": "code",
   "execution_count": null,
   "id": "9a26f702",
   "metadata": {},
   "outputs": [],
   "source": []
  },
  {
   "cell_type": "markdown",
   "id": "18d75080",
   "metadata": {},
   "source": [
    "9. Write a Python program to Remove empty List from List?    "
   ]
  },
  {
   "cell_type": "code",
   "execution_count": null,
   "id": "12b83826",
   "metadata": {},
   "outputs": [],
   "source": []
  },
  {
   "cell_type": "markdown",
   "id": "3a364137",
   "metadata": {},
   "source": [
    "10. Write a Python program to Cloning or Copying a list?  "
   ]
  },
  {
   "cell_type": "code",
   "execution_count": null,
   "id": "d684f713",
   "metadata": {},
   "outputs": [],
   "source": []
  },
  {
   "cell_type": "markdown",
   "id": "88937040",
   "metadata": {},
   "source": [
    "11. Write a Python program to Count occurrences of an element in a list?"
   ]
  },
  {
   "cell_type": "code",
   "execution_count": null,
   "id": "1f77f9ea",
   "metadata": {},
   "outputs": [],
   "source": []
  }
 ],
 "metadata": {
  "kernelspec": {
   "display_name": "Python 3 (ipykernel)",
   "language": "python",
   "name": "python3"
  },
  "language_info": {
   "codemirror_mode": {
    "name": "ipython",
    "version": 3
   },
   "file_extension": ".py",
   "mimetype": "text/x-python",
   "name": "python",
   "nbconvert_exporter": "python",
   "pygments_lexer": "ipython3",
   "version": "3.10.4"
  }
 },
 "nbformat": 4,
 "nbformat_minor": 5
}
