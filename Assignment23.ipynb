{
 "cells": [
  {
   "cell_type": "raw",
   "id": "0be8bf23",
   "metadata": {},
   "source": [
    "1. What is the result of the code, and why?\n",
    ">>> def func(a, b=6, c=8):\n",
    "print(a, b, c)\n",
    ">>> func(1, 2)"
   ]
  },
  {
   "cell_type": "code",
   "execution_count": null,
   "id": "e5dc7381",
   "metadata": {},
   "outputs": [],
   "source": []
  },
  {
   "cell_type": "raw",
   "id": "fb083e60",
   "metadata": {},
   "source": [
    "2. What is the result of this code, and why?\n",
    ">>> def func(a, b, c=5):\n",
    "print(a, b, c)\n",
    ">>> func(1, c=3, b=2)"
   ]
  },
  {
   "cell_type": "code",
   "execution_count": null,
   "id": "d0b8da14",
   "metadata": {},
   "outputs": [],
   "source": []
  },
  {
   "cell_type": "raw",
   "id": "20b030e1",
   "metadata": {},
   "source": [
    "3. How about this code: what is its result, and why?\n",
    ">>> def func(a, *pargs):\n",
    "print(a, pargs)\n",
    ">>> func(1, 2, 3)"
   ]
  },
  {
   "cell_type": "code",
   "execution_count": null,
   "id": "4aa8d0fb",
   "metadata": {},
   "outputs": [],
   "source": []
  },
  {
   "cell_type": "raw",
   "id": "bc5d9cc0",
   "metadata": {},
   "source": [
    "4. What does this code print, and why?\n",
    ">>> def func(a, **kargs):\n",
    "print(a, kargs)\n",
    ">>> func(a=1, c=3, b=2)"
   ]
  },
  {
   "cell_type": "code",
   "execution_count": null,
   "id": "a8ca8fb1",
   "metadata": {},
   "outputs": [],
   "source": []
  },
  {
   "cell_type": "raw",
   "id": "e7e475f3",
   "metadata": {},
   "source": [
    "5. What gets printed by this, and explain?\n",
    ">>> def func(a, b, c=8, d=5): print(a, b, c, d)\n",
    ">>> func(1, *(5, 6))"
   ]
  },
  {
   "cell_type": "code",
   "execution_count": null,
   "id": "95c434b1",
   "metadata": {},
   "outputs": [],
   "source": []
  },
  {
   "cell_type": "raw",
   "id": "172daea9",
   "metadata": {},
   "source": [
    "6. what is the result of this, and explain?\n",
    ">>> def func(a, b, c): a = 2; b[0] = 'x'; c['a'] = 'y'\n",
    ">>> l=1; m=[1]; n={'a':0}\n",
    ">>> func(l, m, n)\n",
    ">>> l, m, n"
   ]
  },
  {
   "cell_type": "code",
   "execution_count": null,
   "id": "05d60f09",
   "metadata": {},
   "outputs": [],
   "source": []
  },
  {
   "cell_type": "raw",
   "id": "b55dd059",
   "metadata": {},
   "source": []
  },
  {
   "cell_type": "code",
   "execution_count": null,
   "id": "2f2947c0",
   "metadata": {},
   "outputs": [],
   "source": []
  },
  {
   "cell_type": "raw",
   "id": "7425245f",
   "metadata": {},
   "source": []
  },
  {
   "cell_type": "code",
   "execution_count": null,
   "id": "ae3137ce",
   "metadata": {},
   "outputs": [],
   "source": []
  },
  {
   "cell_type": "code",
   "execution_count": null,
   "id": "13dde80f",
   "metadata": {},
   "outputs": [],
   "source": []
  },
  {
   "cell_type": "code",
   "execution_count": null,
   "id": "b81aa274",
   "metadata": {},
   "outputs": [],
   "source": []
  },
  {
   "cell_type": "code",
   "execution_count": null,
   "id": "3fcb41e6",
   "metadata": {},
   "outputs": [],
   "source": []
  }
 ],
 "metadata": {
  "kernelspec": {
   "display_name": "Python 3 (ipykernel)",
   "language": "python",
   "name": "python3"
  },
  "language_info": {
   "codemirror_mode": {
    "name": "ipython",
    "version": 3
   },
   "file_extension": ".py",
   "mimetype": "text/x-python",
   "name": "python",
   "nbconvert_exporter": "python",
   "pygments_lexer": "ipython3",
   "version": "3.10.4"
  }
 },
 "nbformat": 4,
 "nbformat_minor": 5
}
