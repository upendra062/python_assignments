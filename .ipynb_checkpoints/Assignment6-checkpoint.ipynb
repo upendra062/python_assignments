{
 "cells": [
  {
   "cell_type": "markdown",
   "id": "e54e5889",
   "metadata": {},
   "source": [
    "1. What are escape characters, and how do you use them?"
   ]
  },
  {
   "cell_type": "raw",
   "id": "8d4de9ae",
   "metadata": {},
   "source": [
    "The escape character allows you to use double quotes when you normally would not be allowed"
   ]
  },
  {
   "cell_type": "code",
   "execution_count": 105,
   "id": "33adf9b0",
   "metadata": {},
   "outputs": [
    {
     "name": "stdout",
     "output_type": "stream",
     "text": [
      "We are the so-called \"Vikings\" from the north.\n"
     ]
    }
   ],
   "source": [
    "txt = \"We are the so-called \\\"Vikings\\\" from the north.\"\n",
    "print(txt)"
   ]
  },
  {
   "cell_type": "raw",
   "id": "305522c5",
   "metadata": {},
   "source": [
    "list of Escape Characters\n",
    "\\'\tSingle Quotation\n",
    "\\\\\tBackslash\t\n",
    "\\n\tNew Line\t\n",
    "\\r\tCarriage Return\t\n",
    "\\t\tTab\t\n",
    "\\b\tBackspace\t\n",
    "\\f\tForm Feed\t\n",
    "\\ooo\tOctal value\t\n",
    "\\xhh\tHex value"
   ]
  },
  {
   "cell_type": "markdown",
   "id": "6738c659",
   "metadata": {},
   "source": [
    "2. What do the escape characters n and t stand for?"
   ]
  },
  {
   "cell_type": "code",
   "execution_count": 110,
   "id": "b4538a52",
   "metadata": {},
   "outputs": [
    {
     "name": "stdout",
     "output_type": "stream",
     "text": [
      "hey my name is:\n",
      "rocky singh \tusing escape sequence  \bbackspace\n"
     ]
    }
   ],
   "source": [
    "# \\n = new line\n",
    "# \\t = one tab space\n",
    "print(f'hey my name is:\\nrocky singh \\tusing escape sequence  \\bbackspace')"
   ]
  },
  {
   "cell_type": "markdown",
   "id": "b98d7eb9",
   "metadata": {},
   "source": [
    "3. What is the way to include backslash characters in a string?"
   ]
  },
  {
   "cell_type": "code",
   "execution_count": 111,
   "id": "de2b2336",
   "metadata": {},
   "outputs": [
    {
     "name": "stdout",
     "output_type": "stream",
     "text": [
      "hey isngh \\ skdfjkl\n"
     ]
    }
   ],
   "source": [
    "# \\\\ = to print single backslash\n",
    "print('hey isngh \\\\ skdfjkl')"
   ]
  },
  {
   "cell_type": "markdown",
   "id": "710b760e",
   "metadata": {},
   "source": [
    "4. The string \"Howl's Moving Castle\" is a correct value. Why isn't the single quote character in the word Howl's not escaped a problem?"
   ]
  },
  {
   "cell_type": "raw",
   "id": "ee46b9e7",
   "metadata": {},
   "source": [
    "The single quote in Howl's is fine because you've used double quotes to mark the beginning and end of the string."
   ]
  },
  {
   "cell_type": "code",
   "execution_count": 112,
   "id": "8f3357bc",
   "metadata": {},
   "outputs": [
    {
     "name": "stdout",
     "output_type": "stream",
     "text": [
      "Howl's Moving Castle\n"
     ]
    }
   ],
   "source": [
    "# we can single quotes inside double quotes or double inside single\n",
    "print(\"Howl's Moving Castle\")"
   ]
  },
  {
   "cell_type": "markdown",
   "id": "72dad715",
   "metadata": {},
   "source": [
    "5. How do you write a string of newlines if you don't want to use the n character?"
   ]
  },
  {
   "cell_type": "code",
   "execution_count": 124,
   "id": "f7d52bbc",
   "metadata": {},
   "outputs": [
    {
     "name": "stdout",
     "output_type": "stream",
     "text": [
      "99 buckets of bits on the bus.\n",
      "99 buckets of bits.\n",
      "Take one down, short it to ground.\n",
      "98 buckets of bits on the bus.\n",
      "\n",
      "99 buckets of bits on the bus.\n",
      "99 buckets of bits.\n",
      "Take one down, short it to ground.\n",
      "98 buckets of bits on the bus.\n",
      "\n",
      " 99 buckets of bits on the bus.\n",
      " 99 buckets of bits.\n",
      " Take one down, short it to ground.\n",
      " 98 buckets of bits on the bus.\n",
      "\n",
      " 99 buckets of bits on the bus.\n",
      " 99 buckets of bits.\n",
      " Take one down, short it to ground.\n",
      " 98 buckets of bits on the bus."
     ]
    }
   ],
   "source": [
    "# Many ways to write string of newlines without \\n few are mentioned below\n",
    "import os\n",
    "print(os.linesep.join([\"99 buckets of bits on the bus.\",\n",
    " \"99 buckets of bits.\",\n",
    " \"Take one down, short it to ground.\",\n",
    " \"98 buckets of bits on the bus.\"]))\n",
    "print()\n",
    "\n",
    "print(chr(10).join([\n",
    "    '99 buckets of bits on the bus.',\n",
    "    '99 buckets of bits.',\n",
    "    'Take one down, short it to ground.',\n",
    "    '98 buckets of bits on the bus.'\n",
    "]))\n",
    "print()\n",
    "\n",
    "print(\"\"\" 99 buckets of bits on the bus.\n",
    " 99 buckets of bits.\n",
    " Take one down, short it to ground.\n",
    " 98 buckets of bits on the bus.\"\"\")\n",
    "print()\n",
    "\n",
    "a =\"\"\" 99 buckets of bits on the bus.\n",
    " 99 buckets of bits.\n",
    " Take one down, short it to ground.\n",
    " 98 buckets of bits on the bus.\"\"\"\n",
    "for i in a: \n",
    "    print(i, end=\"\")"
   ]
  },
  {
   "cell_type": "raw",
   "id": "003a25c0",
   "metadata": {},
   "source": [
    "6. What are the values of the given expressions?\n",
    "'Hello, world!'[1]\n",
    "'Hello, world!'[0:5]\n",
    "'Hello, world!'[:5]\n",
    "'Hello, world!'[3:]"
   ]
  },
  {
   "cell_type": "code",
   "execution_count": 114,
   "id": "870035b2",
   "metadata": {},
   "outputs": [
    {
     "name": "stdout",
     "output_type": "stream",
     "text": [
      "e\n",
      "Hello\n",
      "Hello\n",
      "lo, world!\n"
     ]
    }
   ],
   "source": [
    "print('Hello, world!'[1])\n",
    "print('Hello, world!'[0:5])\n",
    "print('Hello, world!'[:5])\n",
    "print('Hello, world!'[3:])"
   ]
  },
  {
   "cell_type": "raw",
   "id": "c55ec374",
   "metadata": {},
   "source": [
    "7. What are the values of the following expressions?\n",
    "'Hello'.upper()\n",
    "'Hello'.upper().isupper()\n",
    "'Hello'.upper().lower()"
   ]
  },
  {
   "cell_type": "code",
   "execution_count": 125,
   "id": "9217227a",
   "metadata": {},
   "outputs": [
    {
     "name": "stdout",
     "output_type": "stream",
     "text": [
      "HELLO\n",
      "True\n",
      "hello\n"
     ]
    }
   ],
   "source": [
    "# 'Hello'.upper()  # o/p = 'HELLO' convert string into upper case\n",
    "# 'Hello'.upper().isupper() # o/p = True, upper method convert into upper case,\n",
    "###                                 isupper return True or False. if the letter in upper case\n",
    "# 'Hello'.upper().lower()# o/p = 'hello', upper convert string into upper case.\n",
    "###                             lower convert string into lower case\n",
    "print('Hello'.upper())\n",
    "print('Hello'.upper().isupper())\n",
    "print('Hello'.upper().lower())"
   ]
  },
  {
   "cell_type": "raw",
   "id": "28e0c8f1",
   "metadata": {},
   "source": [
    "8. What are the values of the following expressions?\n",
    "'Remember, remember, the fifth of July.'.split()\n",
    "'-'.join('There can only one.'.split())"
   ]
  },
  {
   "cell_type": "code",
   "execution_count": 41,
   "id": "b497ac81",
   "metadata": {},
   "outputs": [
    {
     "name": "stdout",
     "output_type": "stream",
     "text": [
      "['upendra', 'singh']\n"
     ]
    },
    {
     "data": {
      "text/plain": [
       "'upendra  singh'"
      ]
     },
     "execution_count": 41,
     "metadata": {},
     "output_type": "execute_result"
    }
   ],
   "source": [
    "'Remember, remember, the fifth of July.'.split() # o/p=['Remember,', 'remember,', 'the', 'fifth', 'of', 'July.']\n",
    "'-'.join('There can only one.'.split()) # o/p='There-can-only-one.'\n",
    "\n",
    "a = 'upendra singh'\n",
    "b = a.split(\" \")\n",
    "print(b)\n",
    "'  '.join(b)\n",
    "\n",
    "# split function - split the values of a string return  list a of elements which are in string\n",
    "# join function - join function join the list of string into a list based on the delimiter\n",
    "#                     you are passing"
   ]
  },
  {
   "cell_type": "markdown",
   "id": "ba4081da",
   "metadata": {},
   "source": [
    "9. What are the methods for right-justifying, left-justifying, and centering a string?"
   ]
  },
  {
   "cell_type": "code",
   "execution_count": 93,
   "id": "b9acf302",
   "metadata": {},
   "outputs": [
    {
     "name": "stdout",
     "output_type": "stream",
     "text": [
      "***upendra\n",
      "upendra***\n",
      "*********************upendra**********************\n"
     ]
    }
   ],
   "source": [
    "a = 'upendra'\n",
    "print(a.rjust(10,'*'))\n",
    "print(a.ljust(10,'*'))\n",
    "print(a.center(50,'*'))"
   ]
  },
  {
   "cell_type": "markdown",
   "id": "9272aa27",
   "metadata": {},
   "source": [
    "If a value less than or equal to the length of the original string is specified, the original string is returned."
   ]
  },
  {
   "cell_type": "markdown",
   "id": "79977685",
   "metadata": {},
   "source": [
    "10. What is the best way to remove whitespace characters from the start or end?\n"
   ]
  },
  {
   "cell_type": "code",
   "execution_count": 77,
   "id": "1501dfa7",
   "metadata": {},
   "outputs": [
    {
     "name": "stdout",
     "output_type": "stream",
     "text": [
      "upendra                singh   bhadauria\n",
      "upendra                singh   bhadauria       \n",
      "     upendra                singh   bhadauria\n",
      "   upendra      singh bhadauria   \n",
      " upendrasingh bhadauria \n",
      "upendra singh bhadauria\n"
     ]
    }
   ],
   "source": [
    "# to remove whitespace we can strip, lstrip, rstring, replace, split, join\n",
    "a = '     upendra                singh   bhadauria       '\n",
    "print(a.strip()) # remove spaces from left and right\n",
    "print(a.lstrip())\n",
    "print(a.rstrip())\n",
    "print(a.replace(\"   \", \" \"))\n",
    "print(a.replace(\"  \",\"\"))\n",
    "print(' '.join(a.split())) # for this kind of case join and split works best as we see"
   ]
  },
  {
   "cell_type": "code",
   "execution_count": null,
   "id": "4707c695",
   "metadata": {},
   "outputs": [],
   "source": []
  },
  {
   "cell_type": "raw",
   "id": "9d43f2bd",
   "metadata": {},
   "source": [
    "The Python String isspace() method is used to determine whether an argument has all whitespace characters such as:\n",
    "\n",
    "‘ ‘ – Space\n",
    "‘\\t’ – Horizontal tab\n",
    "‘\\v’ – Vertical tab\n",
    "‘\\n’ – Newline\n",
    "‘\\r’ – Carriage return\n",
    "‘\\f’ – Feed"
   ]
  },
  {
   "cell_type": "code",
   "execution_count": 53,
   "id": "0330125e",
   "metadata": {},
   "outputs": [
    {
     "name": "stdout",
     "output_type": "stream",
     "text": [
      "True\n",
      "True\n",
      "True\n",
      "True\n",
      "True\n",
      "True\n",
      "True\n",
      "True\n",
      "True\n"
     ]
    }
   ],
   "source": [
    "a = ' '\n",
    "print(a.isspace())\n",
    "\n",
    "a = '\\t'\n",
    "print(a.isspace())\n",
    "\n",
    "a = '\\v'\n",
    "print(a.isspace())\n",
    "\n",
    "a = '\\n'\n",
    "print(a.isspace())\n",
    "\n",
    "a = '\\r'\n",
    "print(a.isspace())\n",
    "\n",
    "a = '\\f'\n",
    "print(a.isspace())\n",
    "\n",
    "txt = '    '\n",
    "print(txt.isspace())\n",
    "\n",
    "txt = '\\n \\t'\n",
    "print(txt.isspace())\n",
    "\n",
    "txt = '\\r\\t\\n'\n",
    "print(txt.isspace())"
   ]
  },
  {
   "cell_type": "code",
   "execution_count": null,
   "id": "12265091",
   "metadata": {},
   "outputs": [],
   "source": []
  }
 ],
 "metadata": {
  "kernelspec": {
   "display_name": "Python 3 (ipykernel)",
   "language": "python",
   "name": "python3"
  },
  "language_info": {
   "codemirror_mode": {
    "name": "ipython",
    "version": 3
   },
   "file_extension": ".py",
   "mimetype": "text/x-python",
   "name": "python",
   "nbconvert_exporter": "python",
   "pygments_lexer": "ipython3",
   "version": "3.10.4"
  }
 },
 "nbformat": 4,
 "nbformat_minor": 5
}
