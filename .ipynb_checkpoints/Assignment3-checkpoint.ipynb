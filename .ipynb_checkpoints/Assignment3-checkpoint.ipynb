{
 "cells": [
  {
   "cell_type": "markdown",
   "id": "b8edb253",
   "metadata": {},
   "source": [
    "1. Why are functions advantageous to have in your programs?"
   ]
  },
  {
   "cell_type": "raw",
   "id": "3fa0304a",
   "metadata": {},
   "source": [
    "Ans1.\n",
    "The use of functions makes a program more readable. It's frequently difficult to read a large program. Breaking the code down into smaller functions keeps the program structured, understandable, and reusable. The function can be reused countless times after it is defined."
   ]
  },
  {
   "cell_type": "markdown",
   "id": "c706e326",
   "metadata": {},
   "source": [
    "2. When does the code in a function run: when it's specified or when it's called?\n"
   ]
  },
  {
   "cell_type": "raw",
   "id": "d114f4b0",
   "metadata": {},
   "source": [
    "Ans2. When it is called"
   ]
  },
  {
   "cell_type": "markdown",
   "id": "afb1e830",
   "metadata": {},
   "source": [
    "3. What statement creates a function?"
   ]
  },
  {
   "cell_type": "raw",
   "id": "fc37f0c4",
   "metadata": {},
   "source": [
    "Ans3. you define a function with the def keyword."
   ]
  },
  {
   "cell_type": "markdown",
   "id": "8f6c93a0",
   "metadata": {},
   "source": [
    "4. What is the difference between a function and a function call?"
   ]
  },
  {
   "cell_type": "raw",
   "id": "2303fc5b",
   "metadata": {},
   "source": [
    "Ans4.\n",
    "    A function is a block of code that does a particular operation and returns a result.\n",
    "    It usually accepts inputs as parameters and returns a result. The parameters are not mandatory.\n",
    "    E.g:\n",
    "    def add(x,y)\n",
    "        return x+y\n",
    "\n",
    "    A function call is the code used to pass control to a function.\n",
    "    E.g:\n",
    "    a = add(2,4)\n",
    "\n",
    "    Now a will have the value 6."
   ]
  },
  {
   "cell_type": "markdown",
   "id": "b4b84a12",
   "metadata": {},
   "source": [
    "5. How many global scopes are there in a Python program? How many local scopes?"
   ]
  },
  {
   "cell_type": "raw",
   "id": "a34c0fb5",
   "metadata": {},
   "source": [
    "Ans5. Global scopes = refers to the objects available  throughout the code execution since their inception.\n",
    "    There's only one global scope per program execution.\n",
    "\n",
    "      Local scopes = refers to the local objects available in the current function.\n",
    "      local scope is created when the function is called."
   ]
  },
  {
   "cell_type": "markdown",
   "id": "3c4daab8",
   "metadata": {},
   "source": [
    "6. What happens to variables in a local scope when the function call returns?"
   ]
  },
  {
   "cell_type": "raw",
   "id": "b706c8c1",
   "metadata": {},
   "source": [
    "Ans6.Each call of the function creates new local variables, and their lifetimes expire when the function returns to the caller."
   ]
  },
  {
   "cell_type": "markdown",
   "id": "0c07d8fd",
   "metadata": {},
   "source": [
    "7. What is the concept of a return value? Is it possible to have a return value in an expression?"
   ]
  },
  {
   "cell_type": "raw",
   "id": "cf6050a5",
   "metadata": {},
   "source": [
    "Ans7. Return values are just what they sound like — the values that a function returns when it completes.\n",
    "Some points to remember while using return(): The statements after the return() statement are not executed. return() statement can not be used outside the function.\n",
    "but the value that function return can be used in a expression."
   ]
  },
  {
   "cell_type": "markdown",
   "id": "3a7f16ac",
   "metadata": {},
   "source": [
    "8. If a function does not have a return statement, what is the return value of a call to that function?"
   ]
  },
  {
   "cell_type": "raw",
   "id": "3e74317e",
   "metadata": {},
   "source": [
    "Ans8. So, if you don't explicitly use a return value in a return statement, or if you totally omit the return statement, then Python will implicitly return a default value for you. That default return value will always be None ."
   ]
  },
  {
   "cell_type": "markdown",
   "id": "d657b973",
   "metadata": {},
   "source": [
    "9. How do you make a function variable refer to the global variable?"
   ]
  },
  {
   "cell_type": "raw",
   "id": "aa159725",
   "metadata": {},
   "source": [
    "Ans9.To create a global variable inside a function, you can use the global keyword."
   ]
  },
  {
   "cell_type": "markdown",
   "id": "1caffae9",
   "metadata": {},
   "source": [
    "10. What is the data type of None?"
   ]
  },
  {
   "cell_type": "raw",
   "id": "846dcca4",
   "metadata": {},
   "source": [
    "Ans10. The None keyword is used to define a null value, or no value at all.None is a data type of its own (NoneType)."
   ]
  },
  {
   "cell_type": "markdown",
   "id": "cb11541f",
   "metadata": {},
   "source": [
    "11. What does the sentence import areallyourpetsnamederic do?"
   ]
  },
  {
   "cell_type": "raw",
   "id": "8d44f0d0",
   "metadata": {},
   "source": [
    "Ans11.import statement imports a module named areallyourpetsnamederic. (This isn't a real Python module, by the way.)"
   ]
  },
  {
   "cell_type": "markdown",
   "id": "9a2fda88",
   "metadata": {},
   "source": [
    "12. If you had a bacon() feature in a spam module, what would you call it after importing spam?"
   ]
  },
  {
   "cell_type": "code",
   "execution_count": null,
   "id": "05f39225",
   "metadata": {},
   "outputs": [],
   "source": [
    "Ans12. spam.bacon()"
   ]
  },
  {
   "cell_type": "markdown",
   "id": "c37c558d",
   "metadata": {},
   "source": [
    "13. What can you do to save a programme from crashing if it encounters an error?"
   ]
  },
  {
   "cell_type": "raw",
   "id": "1ea0794d",
   "metadata": {},
   "source": [
    "Ans13.error handling can be used to notify the user of why the error occurred and gracefully exit the process that caused the error.\n",
    "Exception handling using try - except and try - except - finally"
   ]
  },
  {
   "cell_type": "markdown",
   "id": "bbaccfaf",
   "metadata": {},
   "source": [
    "14. What is the purpose of the try clause? What is the purpose of the except clause?"
   ]
  },
  {
   "cell_type": "raw",
   "id": "1bf4ec7a",
   "metadata": {},
   "source": [
    "Ans14.The try block lets you test a block of code for errors. The except block lets you handle the error. "
   ]
  },
  {
   "cell_type": "code",
   "execution_count": null,
   "id": "7a95974e",
   "metadata": {},
   "outputs": [],
   "source": []
  },
  {
   "cell_type": "code",
   "execution_count": null,
   "id": "7e7ead97",
   "metadata": {},
   "outputs": [],
   "source": []
  }
 ],
 "metadata": {
  "kernelspec": {
   "display_name": "Python 3 (ipykernel)",
   "language": "python",
   "name": "python3"
  },
  "language_info": {
   "codemirror_mode": {
    "name": "ipython",
    "version": 3
   },
   "file_extension": ".py",
   "mimetype": "text/x-python",
   "name": "python",
   "nbconvert_exporter": "python",
   "pygments_lexer": "ipython3",
   "version": "3.10.4"
  }
 },
 "nbformat": 4,
 "nbformat_minor": 5
}
