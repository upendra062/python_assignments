{
 "cells": [
  {
   "cell_type": "markdown",
   "id": "42ded96d",
   "metadata": {},
   "source": [
    "1. In the below elements which of them are values or an expression? eg:- values can be integer or string and expressions will be mathematical operators.\n",
    "\n",
    "*, \n",
    "'hello',\n",
    "-87.8,\n",
    "-,\n",
    "/,\n",
    "+, \n",
    "6 "
   ]
  },
  {
   "cell_type": "raw",
   "id": "31e5a065",
   "metadata": {},
   "source": [
    "Ans1. values are 6, -87.8,'hello'\n",
    "      and expressions are -, /, +,  *"
   ]
  },
  {
   "cell_type": "markdown",
   "id": "2913a5a0",
   "metadata": {},
   "source": [
    "2. What is the difference between string and variable?"
   ]
  },
  {
   "cell_type": "raw",
   "id": "1aa5ab97",
   "metadata": {},
   "source": [
    "Ans2.  \n",
    "        Variable = Variables are symbols that you can use to store data in a program. You can think of them as an empty box that you fill with some data or value. Strings are data, so we can use them to fill up a variable. Declaring strings as variables can make it easier for us to work with strings throughout our Python programs\n",
    "                    \n",
    "         String = String is a collection of alphabets, words or other characters. It is one of the primitive data structures and are the building blocks for data manipulation. Python has a built-in string class named str . Python strings are \"immutable\" which means they cannot be changed after they are created.           "
   ]
  },
  {
   "cell_type": "markdown",
   "id": "833d76fc",
   "metadata": {},
   "source": [
    "3. Describe three different data types."
   ]
  },
  {
   "cell_type": "raw",
   "id": "4d279dbc",
   "metadata": {},
   "source": [
    "Ans3.There are several build-in data types in python.\n",
    "    Although, python doesn't require data type to be\n",
    "    explicitly defined during the variable declaration\n",
    "    a type error is likely to if the knowledge and the\n",
    "    compatibility with each others are neglected.python\n",
    "    provide type and isinstance function the check the\n",
    "    data type of these variable. These variable are \n",
    "    categorized into following categories. \n",
    "    \n",
    "    1. None Type:\n",
    "        None keyword represents the null values in \n",
    "        python. \n",
    "    2. Numeric Types:\n",
    "        There are three distinct numeric types- int\n",
    "        ,floating-point numbers, and complex numbers.\n",
    "        Additionally, booleans are a sub-type of integers.\n",
    "        \n",
    "        int = stores integer literals. ex=1,2,3\n",
    "        float = stores literals containing decimal\n",
    "            values. ex= 1.1, 2.2, 3.3\n",
    "        complex = stores complex numbers in the form\n",
    "            (A+Bj) and has attributes: real and \n",
    "                imaginary.\n",
    "        bool = Stores boolean value(True and False)\n",
    "    3. Sequence Types: \n",
    "        According to python Docs, there are basic Sequence\n",
    "        Types - lists, tuples and range objects. \n",
    "        Sequence types have the in and not in operators\n",
    "        defined for their traversing their elements. These\n",
    "        operators share the same priority as the comparision\n",
    "        operators.\n",
    "        \n",
    "        list = Mutable sequence used to store collection\n",
    "            of items.\n",
    "        tuple = immutable sequence used to store collection\n",
    "            of items. \n",
    "        range = Represents an immutable sequence of numbers\n",
    "            generated during execution.\n",
    "        str = immutable sequence of Unicode code ponts to \n",
    "            store textual data. \n",
    "    4. Mapping Types:\n",
    "        A mapping can map hashable values to random\n",
    "        objects in python. Mappings objects are mutable\n",
    "        and there is currently only one standard mapping\n",
    "        type, the dictionary\n",
    "        \n",
    "        dict = Stores comma-separated list of key:value\n",
    "            pairs."
   ]
  },
  {
   "cell_type": "markdown",
   "id": "2d07cad9",
   "metadata": {},
   "source": [
    "4. What is an expression made up of? What do all expressions do?"
   ]
  },
  {
   "cell_type": "raw",
   "id": "ebf972af",
   "metadata": {},
   "source": [
    "Ans4. \n",
    "A combination of operands and operators is called an expression. \n",
    "The expression in Python produces some value or result after\n",
    "being interpreted by the Python interpreter. An expression in\n",
    "Python is a combination of operators and operands. \n",
    "ex : x = x + 5 x = x + 5 x=x+5"
   ]
  },
  {
   "cell_type": "markdown",
   "id": "0e33c1c7",
   "metadata": {},
   "source": [
    "5. This assignment statements, like spam = 10. What is the difference between an expression and a statement?"
   ]
  },
  {
   "cell_type": "raw",
   "id": "e95a3d50",
   "metadata": {},
   "source": [
    "Ans5. \n",
    "    The Main Differences Between an Expression and a Statement in Programming. Expressions can be assigned or used as operands, while statements can only be declared. Statements create side effects to be useful, while expressions are values or execute to values."
   ]
  },
  {
   "cell_type": "raw",
   "id": "d0670547",
   "metadata": {},
   "source": [
    "6. After running the following code, what does the variable bacon contain?\n",
    "bacon = 22\n",
    "bacon + 1"
   ]
  },
  {
   "cell_type": "code",
   "execution_count": null,
   "id": "a9a3aad6",
   "metadata": {},
   "outputs": [],
   "source": [
    "Ans6. bacon contain integer value 23."
   ]
  },
  {
   "cell_type": "raw",
   "id": "3f13c002",
   "metadata": {},
   "source": [
    "7. What should the values of the following two terms be?\n",
    "'spam' + 'spamspam' \n",
    "'spam' * 3"
   ]
  },
  {
   "cell_type": "raw",
   "id": "926893c2",
   "metadata": {},
   "source": [
    "Ans7.\n",
    "'spam' + 'spamspam' = 'spamspamspam'\n",
    "'spam' * 3 = spamspamspam'"
   ]
  },
  {
   "cell_type": "markdown",
   "id": "2df6adf8",
   "metadata": {},
   "source": [
    "8. Why is eggs a valid variable name while 100 is invalid?"
   ]
  },
  {
   "cell_type": "code",
   "execution_count": null,
   "id": "18ae6ea2",
   "metadata": {},
   "outputs": [],
   "source": [
    "Ans8. Because variable names cannot begin with a number."
   ]
  },
  {
   "cell_type": "markdown",
   "id": "ff23c0ac",
   "metadata": {},
   "source": [
    "9. What three functions can be used to get the integer, floating-point number, or string version of a value?"
   ]
  },
  {
   "cell_type": "code",
   "execution_count": null,
   "id": "b29b8753",
   "metadata": {},
   "outputs": [],
   "source": [
    "Ans9. The int() , float() , and str( ) functions will evaluate to the integer, \n",
    "    floating-point number, and string versions of the value passed to them"
   ]
  },
  {
   "cell_type": "raw",
   "id": "06034086",
   "metadata": {},
   "source": [
    "10. Why does this expression cause an error? How can you fix it?\n",
    "'I have eaten ' + 99 + ' burritos.'"
   ]
  },
  {
   "cell_type": "raw",
   "id": "7e940193",
   "metadata": {},
   "source": [
    "Ans 10. because we can only concatenate str (not \"int\") to str. \n",
    "    we can fix this by converting integer 99 to string.\n",
    "    \n",
    "    'I have eaten ' + '99' + ' burritos.'  =  'I have eaten 99 burritos.'"
   ]
  },
  {
   "cell_type": "code",
   "execution_count": null,
   "id": "dd5df56f",
   "metadata": {},
   "outputs": [],
   "source": []
  },
  {
   "cell_type": "code",
   "execution_count": 7,
   "id": "7440587c",
   "metadata": {},
   "outputs": [
    {
     "data": {
      "text/plain": [
       "'I have eaten 99 burritos.'"
      ]
     },
     "execution_count": 7,
     "metadata": {},
     "output_type": "execute_result"
    }
   ],
   "source": [
    "'I have eaten ' + '99' + ' burritos.'"
   ]
  },
  {
   "cell_type": "code",
   "execution_count": null,
   "id": "074bc18a",
   "metadata": {},
   "outputs": [],
   "source": []
  }
 ],
 "metadata": {
  "kernelspec": {
   "display_name": "Python 3 (ipykernel)",
   "language": "python",
   "name": "python3"
  },
  "language_info": {
   "codemirror_mode": {
    "name": "ipython",
    "version": 3
   },
   "file_extension": ".py",
   "mimetype": "text/x-python",
   "name": "python",
   "nbconvert_exporter": "python",
   "pygments_lexer": "ipython3",
   "version": "3.10.4"
  }
 },
 "nbformat": 4,
 "nbformat_minor": 5
}
