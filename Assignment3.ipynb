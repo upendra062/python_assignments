{
 "cells": [
  {
   "cell_type": "markdown",
   "id": "5d04a1a7",
   "metadata": {},
   "source": [
    "1. Why are functions advantageous to have in your programs?"
   ]
  },
  {
   "cell_type": "raw",
   "id": "9a3ddad0",
   "metadata": {},
   "source": [
    "Ans1.\n",
    "The use of functions makes a program more readable. It's frequently difficult to read a large program. Breaking the code down into smaller functions keeps the program structured, understandable, and reusable. The function can be reused countless times after it is defined."
   ]
  },
  {
   "cell_type": "markdown",
   "id": "bcff3f98",
   "metadata": {},
   "source": [
    "2. When does the code in a function run: when it's specified or when it's called?\n"
   ]
  },
  {
   "cell_type": "raw",
   "id": "11e4fd73",
   "metadata": {},
   "source": [
    "Ans2. When it is called"
   ]
  },
  {
   "cell_type": "markdown",
   "id": "65c14e48",
   "metadata": {},
   "source": [
    "3. What statement creates a function?"
   ]
  },
  {
   "cell_type": "raw",
   "id": "9da09780",
   "metadata": {},
   "source": [
    "Ans3. you define a function with the def keyword."
   ]
  },
  {
   "cell_type": "markdown",
   "id": "64a75f01",
   "metadata": {},
   "source": [
    "4. What is the difference between a function and a function call?"
   ]
  },
  {
   "cell_type": "raw",
   "id": "63344632",
   "metadata": {},
   "source": [
    "Ans4.\n",
    "    A function is a block of code that does a particular operation and returns a result.\n",
    "    It usually accepts inputs as parameters and returns a result. The parameters are not mandatory.\n",
    "    E.g:\n",
    "    def add(x,y)\n",
    "        return x+y\n",
    "\n",
    "    A function call is the code used to pass control to a function.\n",
    "    E.g:\n",
    "    a = add(2,4)\n",
    "\n",
    "    Now a will have the value 6."
   ]
  },
  {
   "cell_type": "markdown",
   "id": "39159c14",
   "metadata": {},
   "source": [
    "5. How many global scopes are there in a Python program? How many local scopes?"
   ]
  },
  {
   "cell_type": "raw",
   "id": "5220213d",
   "metadata": {},
   "source": [
    "Ans5. Global scopes = refers to the objects available  throughout the code execution since their inception.\n",
    "    There's only one global scope per program execution.\n",
    "\n",
    "      Local scopes = refers to the local objects available in the current function.\n",
    "      local scope is created when the function is called."
   ]
  },
  {
   "cell_type": "markdown",
   "id": "cf30184e",
   "metadata": {},
   "source": [
    "6. What happens to variables in a local scope when the function call returns?"
   ]
  },
  {
   "cell_type": "raw",
   "id": "bf20cdbf",
   "metadata": {},
   "source": [
    "Ans6.Each call of the function creates new local variables, and their lifetimes expire when the function returns to the caller."
   ]
  },
  {
   "cell_type": "markdown",
   "id": "c69cc607",
   "metadata": {},
   "source": [
    "7. What is the concept of a return value? Is it possible to have a return value in an expression?"
   ]
  },
  {
   "cell_type": "raw",
   "id": "5cb072ae",
   "metadata": {},
   "source": [
    "Ans7. Return values are just what they sound like — the values that a function returns when it completes.\n",
    "Some points to remember while using return(): The statements after the return() statement are not executed. return() statement can not be used outside the function.\n",
    "but the value that function return can be used in a expression."
   ]
  },
  {
   "cell_type": "markdown",
   "id": "4ed40dab",
   "metadata": {},
   "source": [
    "8. If a function does not have a return statement, what is the return value of a call to that function?"
   ]
  },
  {
   "cell_type": "raw",
   "id": "aae95f82",
   "metadata": {},
   "source": [
    "Ans8. So, if you don't explicitly use a return value in a return statement, or if you totally omit the return statement, then Python will implicitly return a default value for you. That default return value will always be None ."
   ]
  },
  {
   "cell_type": "markdown",
   "id": "50c58213",
   "metadata": {},
   "source": [
    "9. How do you make a function variable refer to the global variable?"
   ]
  },
  {
   "cell_type": "raw",
   "id": "d56b4e46",
   "metadata": {},
   "source": [
    "Ans9.To create a global variable inside a function, you can use the global keyword."
   ]
  },
  {
   "cell_type": "markdown",
   "id": "13bf3d18",
   "metadata": {},
   "source": [
    "10. What is the data type of None?"
   ]
  },
  {
   "cell_type": "raw",
   "id": "e8ff6903",
   "metadata": {},
   "source": [
    "Ans10. The None keyword is used to define a null value, or no value at all.None is a data type of its own (NoneType)."
   ]
  },
  {
   "cell_type": "markdown",
   "id": "db164566",
   "metadata": {},
   "source": [
    "11. What does the sentence import areallyourpetsnamederic do?"
   ]
  },
  {
   "cell_type": "raw",
   "id": "b58dc0f3",
   "metadata": {},
   "source": [
    "Ans11.import statement imports a module named areallyourpetsnamederic. (This isn't a real Python module, by the way.)"
   ]
  },
  {
   "cell_type": "markdown",
   "id": "d5e3d9b6",
   "metadata": {},
   "source": [
    "12. If you had a bacon() feature in a spam module, what would you call it after importing spam?"
   ]
  },
  {
   "cell_type": "code",
   "execution_count": null,
   "id": "009c1b30",
   "metadata": {},
   "outputs": [],
   "source": [
    "Ans12. spam.bacon()"
   ]
  },
  {
   "cell_type": "markdown",
   "id": "bb52b1d6",
   "metadata": {},
   "source": [
    "13. What can you do to save a programme from crashing if it encounters an error?"
   ]
  },
  {
   "cell_type": "raw",
   "id": "a0c2c455",
   "metadata": {},
   "source": [
    "Ans13.error handling can be used to notify the user of why the error occurred and gracefully exit the process that caused the error.\n",
    "Exception handling using try - except and try - except - finally"
   ]
  },
  {
   "cell_type": "markdown",
   "id": "4b5e80c6",
   "metadata": {},
   "source": [
    "14. What is the purpose of the try clause? What is the purpose of the except clause?"
   ]
  },
  {
   "cell_type": "raw",
   "id": "05569285",
   "metadata": {},
   "source": [
    "Ans14.The try block lets you test a block of code for errors. The except block lets you handle the error. "
   ]
  },
  {
   "cell_type": "code",
   "execution_count": null,
   "id": "81284873",
   "metadata": {},
   "outputs": [],
   "source": []
  },
  {
   "cell_type": "code",
   "execution_count": null,
   "id": "058aaa97",
   "metadata": {},
   "outputs": [],
   "source": []
  }
 ],
 "metadata": {
  "kernelspec": {
   "display_name": "Python 3 (ipykernel)",
   "language": "python",
   "name": "python3"
  },
  "language_info": {
   "codemirror_mode": {
    "name": "ipython",
    "version": 3
   },
   "file_extension": ".py",
   "mimetype": "text/x-python",
   "name": "python",
   "nbconvert_exporter": "python",
   "pygments_lexer": "ipython3",
   "version": "3.10.4"
  }
 },
 "nbformat": 4,
 "nbformat_minor": 5
}
